{
 "cells": [
  {
   "cell_type": "code",
   "execution_count": null,
   "id": "d678f774-235e-4d89-8d0e-d04c5f363fe8",
   "metadata": {},
   "outputs": [],
   "source": [
    "from socket import *\n",
    "\n",
    "try:\n",
    "    s = socket(AF_INET, SOCK_STREAM)\n",
    "    host = \"127.0.0.1\"\n",
    "    port = 7002\n",
    "    s.connect((host, port))\n",
    "    while True:\n",
    "        message = input(\"Client: \")\n",
    "        s.send(message.encode('utf-8'))\n",
    "        if message.lower() == 'exit':\n",
    "            break  # Exit the loop if 'exit' is entered\n",
    "        response = s.recv(2048)\n",
    "        print(\"Server:\", response.decode('utf-8'))\n",
    "    s.close()  # Close the socket outside the loop\n",
    "except ConnectionRefusedError:\n",
    "    print(\"Connection refused. Make sure the server is running.\")\n",
    "except KeyboardInterrupt:\n",
    "    print(\"Chat terminated\")\n"
   ]
  },
  {
   "cell_type": "code",
   "execution_count": null,
   "id": "e928c69c-9f3a-4f6a-b577-46e266df4b23",
   "metadata": {},
   "outputs": [],
   "source": []
  }
 ],
 "metadata": {
  "kernelspec": {
   "display_name": "Python 3 (ipykernel)",
   "language": "python",
   "name": "python3"
  },
  "language_info": {
   "codemirror_mode": {
    "name": "ipython",
    "version": 3
   },
   "file_extension": ".py",
   "mimetype": "text/x-python",
   "name": "python",
   "nbconvert_exporter": "python",
   "pygments_lexer": "ipython3",
   "version": "3.11.7"
  }
 },
 "nbformat": 4,
 "nbformat_minor": 5
}
