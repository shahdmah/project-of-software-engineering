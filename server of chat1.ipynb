{
 "cells": [
  {
   "cell_type": "code",
   "execution_count": null,
   "id": "65070e96-0081-4460-a678-9886781526aa",
   "metadata": {},
   "outputs": [
    {
     "name": "stdout",
     "output_type": "stream",
     "text": [
      "Server listening on port 7002\n",
      "Connection from: ('127.0.0.1', 62881)\n"
     ]
    }
   ],
   "source": [
    "from socket import *\n",
    "\n",
    "try:\n",
    "    server_socket = socket(AF_INET, SOCK_STREAM)  # Create a socket object\n",
    "    host = \"127.0.0.1\"  # Server IP address\n",
    "    port = 7002  # Server port\n",
    "    server_socket.bind((host, port))  # Bind the socket to the address\n",
    "    server_socket.listen(5)  # Listen for incoming connections (max 5 clients)\n",
    "    print(\"Server listening on port\", port)\n",
    "\n",
    "    while True:\n",
    "        client_socket, client_address = server_socket.accept()  # Accept a new connection\n",
    "        print(\"Connection from:\", client_address)\n",
    "        \n",
    "        while True:\n",
    "            message = client_socket.recv(2048).decode('utf-8')  # Receive message from client\n",
    "            if not message:\n",
    "                break\n",
    "            print(\"Client:\", message)\n",
    "            \n",
    "            # Echo back the received message\n",
    "            response = input(\"Server: \")  # Take input from the server\n",
    "            client_socket.send(response.encode('utf-8'))  # Send the response to the client\n",
    "        \n",
    "        client_socket.close()  # Close the client connection\n",
    "except KeyboardInterrupt:\n",
    "    print(\"Server terminated\")\n",
    "finally:\n",
    "    server_socket.close()  # Close the server socket\n"
   ]
  },
  {
   "cell_type": "code",
   "execution_count": null,
   "id": "53b94adc-8ab8-461a-a06d-76ba4212f5b2",
   "metadata": {},
   "outputs": [],
   "source": []
  },
  {
   "cell_type": "code",
   "execution_count": null,
   "id": "efcca061-ec5d-4b45-bce1-dfe61cd1dc08",
   "metadata": {},
   "outputs": [],
   "source": []
  },
  {
   "cell_type": "code",
   "execution_count": null,
   "id": "4bc545ad-569b-4bf5-a666-0ac137b1d068",
   "metadata": {},
   "outputs": [],
   "source": []
  }
 ],
 "metadata": {
  "kernelspec": {
   "display_name": "Python 3 (ipykernel)",
   "language": "python",
   "name": "python3"
  },
  "language_info": {
   "codemirror_mode": {
    "name": "ipython",
    "version": 3
   },
   "file_extension": ".py",
   "mimetype": "text/x-python",
   "name": "python",
   "nbconvert_exporter": "python",
   "pygments_lexer": "ipython3",
   "version": "3.11.7"
  }
 },
 "nbformat": 4,
 "nbformat_minor": 5
}
